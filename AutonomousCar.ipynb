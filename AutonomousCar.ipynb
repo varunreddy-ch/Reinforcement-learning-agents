{
 "cells": [
  {
   "cell_type": "code",
   "execution_count": null,
   "metadata": {},
   "outputs": [],
   "source": [
    "import gym\n",
    "import highway_env\n",
    "import numpy as np\n",
    "from stable_baselines import HER, SAC, PPO2, DQN\n"
   ]
  },
  {
   "cell_type": "code",
   "execution_count": null,
   "metadata": {},
   "outputs": [],
   "source": [
    "#Roundabout\n",
    "env = gym.make('roundabout-v0')\n",
    "model = PPO2('MlpPolicy', env, verbose=1)\n"
   ]
  },
  {
   "cell_type": "code",
   "execution_count": null,
   "metadata": {},
   "outputs": [],
   "source": [
    "for i in range(10):\n",
    "    done = False \n",
    "    env.reset() \n",
    "    while not done:\n",
    "        env.render() \n",
    "        action = env.action_space. sample() \n",
    "        next_state, reward, done, info = env.step(action) \n",
    "        print(info) \n",
    "        print(done)\n",
    "env.close()\n",
    "\n"
   ]
  },
  {
   "cell_type": "code",
   "execution_count": null,
   "metadata": {},
   "outputs": [],
   "source": [
    "model = PPO2('Mlppolicy',env,verbose=1)\n",
    "model.learn(total_timesteps = 10000)"
   ]
  },
  {
   "cell_type": "code",
   "execution_count": null,
   "metadata": {},
   "outputs": [],
   "source": [
    "model.save('roundabout')\n",
    "model = PPO2.load('roundabout')"
   ]
  },
  {
   "cell_type": "code",
   "execution_count": null,
   "metadata": {},
   "outputs": [],
   "source": [
    "#visualize Model \n",
    "for i in range(10):\n",
    "    done = False \n",
    "    obs = env.reset() \n",
    "    while not done:\n",
    "        env.render() \n",
    "        action, _states = model.predict(obs) \n",
    "        next_state, reward, done, info = env.step(action) \n",
    "        print(info)\n",
    "        print(done)\n",
    "env.close()\n",
    "\n"
   ]
  },
  {
   "cell_type": "code",
   "execution_count": null,
   "metadata": {},
   "outputs": [],
   "source": [
    "#parking agent\n",
    "env = gym.make('parking-v0')\n",
    "#visualize Model \n",
    "for i in range(10):\n",
    "    done = False \n",
    "    obs = env.reset() \n",
    "    while not done:\n",
    "        env.render() \n",
    "        action, _states = model.predict(obs) \n",
    "        next_state, reward, done, info = env.step(action) \n",
    "        print(info) \n",
    "        print(done)\n",
    "env.close()\n",
    "\n",
    "\n"
   ]
  },
  {
   "cell_type": "code",
   "execution_count": null,
   "metadata": {},
   "outputs": [],
   "source": [
    "model = HER('MlpPolicy', env, SAC, n_sampled_goal= 4, goal_selection_strategy='future', verbose=1)\n",
    "\n",
    "model.learn(10000)"
   ]
  },
  {
   "cell_type": "code",
   "execution_count": null,
   "metadata": {},
   "outputs": [],
   "source": [
    "model.save('parkingagent')\n",
    "model = HER.load('parkingagent',env = env)"
   ]
  },
  {
   "cell_type": "code",
   "execution_count": null,
   "metadata": {},
   "outputs": [],
   "source": [
    "#visualize Model \n",
    "for i in range(10):\n",
    "    done = False \n",
    "    obs = env.reset() \n",
    "    while not done:\n",
    "        env.render() \n",
    "        action, _states = model.predict(obs) \n",
    "        next_state, reward, done, info = env.step(action) \n",
    "        print(info) \n",
    "        print(done)\n",
    "env.close()"
   ]
  },
  {
   "cell_type": "code",
   "execution_count": null,
   "metadata": {},
   "outputs": [],
   "source": [
    "env = gym.make('merge-v0')\n",
    "#visualize Model \n",
    "for i in range(10):\n",
    "    done = False \n",
    "    obs = env.reset() \n",
    "    while not done:\n",
    "        env.render() \n",
    "        action, _states = model.predict(obs) \n",
    "        next_state, reward, done, info = env.step(action) \n",
    "        print(info) \n",
    "        print(done)\n",
    "env.close()"
   ]
  },
  {
   "cell_type": "code",
   "execution_count": null,
   "metadata": {},
   "outputs": [],
   "source": [
    "model = DQN('MlpPolicy',env,verbose = 1)\n",
    "model.learn(100)"
   ]
  },
  {
   "cell_type": "code",
   "execution_count": null,
   "metadata": {},
   "outputs": [],
   "source": [
    "model2 = PPO2('MlpPolicy',env,verbose=1)\n",
    "model2.learn(100)"
   ]
  },
  {
   "cell_type": "code",
   "execution_count": null,
   "metadata": {},
   "outputs": [],
   "source": [
    "for i in range(10):\n",
    "    done = False \n",
    "    obs = env.reset() \n",
    "    while not done:\n",
    "        env.render() \n",
    "        action, _states = model.predict(obs) \n",
    "        next_state, reward, done, info = env.step(action) \n",
    "        print(info) \n",
    "        print(done)\n",
    "env.close()"
   ]
  },
  {
   "cell_type": "code",
   "execution_count": null,
   "metadata": {},
   "outputs": [],
   "source": [
    "for i in range(10):\n",
    "    done = False \n",
    "    obs = env.reset() \n",
    "    while not done:\n",
    "        env.render() \n",
    "        action, _states = model2.predict(obs) \n",
    "        next_state, reward, done, info = env.step(action) \n",
    "        print(info) \n",
    "        print(done)\n",
    "env.close()"
   ]
  },
  {
   "cell_type": "markdown",
   "metadata": {},
   "source": [
    "This is actor critic model using two models."
   ]
  }
 ],
 "metadata": {
  "interpreter": {
   "hash": "b89b5cfaba6639976dc87ff2fec6d58faec662063367e2c229c520fe71072417"
  },
  "kernelspec": {
   "display_name": "Python 3.10.1 64-bit",
   "language": "python",
   "name": "python3"
  },
  "language_info": {
   "codemirror_mode": {
    "name": "ipython",
    "version": 3
   },
   "file_extension": ".py",
   "mimetype": "text/x-python",
   "name": "python",
   "nbconvert_exporter": "python",
   "pygments_lexer": "ipython3",
   "version": "3.10.1"
  },
  "orig_nbformat": 4
 },
 "nbformat": 4,
 "nbformat_minor": 2
}
