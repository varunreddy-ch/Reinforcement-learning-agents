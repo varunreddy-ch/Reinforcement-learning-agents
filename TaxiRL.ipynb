{
 "cells": [
  {
   "cell_type": "code",
   "execution_count": 8,
   "metadata": {},
   "outputs": [],
   "source": [
    "import gym\n",
    "import numpy as np\n",
    "import matplotlib.pyplot as plt\n",
    "from IPython.display import clear_output"
   ]
  },
  {
   "cell_type": "code",
   "execution_count": 2,
   "metadata": {},
   "outputs": [],
   "source": [
    "env = gym.make('Taxi-v3')"
   ]
  },
  {
   "cell_type": "code",
   "execution_count": 3,
   "metadata": {},
   "outputs": [
    {
     "name": "stdout",
     "output_type": "stream",
     "text": [
      "Episode: 3\n",
      " Score :-776\n"
     ]
    }
   ],
   "source": [
    "episodes = 4\n",
    "\n",
    "for episode in range(1,episodes):\n",
    "    state = env.reset()\n",
    "    done = False\n",
    "    score = 0\n",
    "\n",
    "    while not done:\n",
    "        env.render()\n",
    "        #let us make ou agent take random actions initially\n",
    "        state, reward, done, info = env.step(env.action_space.sample())\n",
    "        #This has 6 random acitons we can take.\n",
    "        #Increment the reward everytime\n",
    "        score +=  reward\n",
    "        clear_output(wait=True)\n",
    "    print('Episode: {}\\n Score :{}'.format(episode, score))\n",
    "\n",
    "\n",
    "env.close()"
   ]
  },
  {
   "cell_type": "code",
   "execution_count": 6,
   "metadata": {},
   "outputs": [
    {
     "data": {
      "text/plain": [
       "500"
      ]
     },
     "execution_count": 6,
     "metadata": {},
     "output_type": "execute_result"
    }
   ],
   "source": [
    "#Creating the Q table for the agent\n",
    "actions = env.action_space.n\n",
    "state = env.observation_space.n\n",
    "state"
   ]
  },
  {
   "cell_type": "code",
   "execution_count": 9,
   "metadata": {},
   "outputs": [],
   "source": [
    "#since we have 500 states, let us build the q table.\n",
    "q_table = np.zeros((state,actions))"
   ]
  },
  {
   "cell_type": "code",
   "execution_count": 10,
   "metadata": {},
   "outputs": [],
   "source": [
    "#parametres for Q learning\n",
    "num_episodes = 10000\n",
    "max_steps_per_episode = 100\n",
    "\n",
    "learning_rate = 0.1\n",
    "discount_rate = 0.99\n",
    "\n",
    "#this is for the exploration vs exploitation dilemma.\n",
    "exploration_rate = 1\n",
    "max_exploration_rate = 1\n",
    "min_exploration_rate = 0.01\n",
    "exploration_decay_rate = 0.001\n",
    "\n",
    "rewards_all_episodes = []\n"
   ]
  },
  {
   "cell_type": "code",
   "execution_count": 13,
   "metadata": {},
   "outputs": [
    {
     "name": "stdout",
     "output_type": "stream",
     "text": [
      "done\n"
     ]
    }
   ],
   "source": [
    "#Now we start training our model.\n",
    "for episode in range(num_episodes):\n",
    "    state = env.reset()\n",
    "    done = False\n",
    "    rewards_current_episode = 0\n",
    "\n",
    "    #This is the breakout of condition if our agent falls in a loop.\n",
    "    for step in range(max_steps_per_episode):\n",
    "        exploration_threshold = np.random.uniform(0,1)\n",
    "        #Either take a random action or the max depedning on the params.\n",
    "        if exploration_threshold > exploration_rate:\n",
    "            action = np.argmax(q_table[state,:])\n",
    "        else:\n",
    "            action = env.action_space.sample()\n",
    "\n",
    "        #get the values for taking that action.\n",
    "        new_state, reward, done, info = env.step(action)\n",
    "        \n",
    "        #fill in the Q table using the slightly modified version of Q learning update rule.\n",
    "        q_table[state,action] = q_table[state,action] * (1-learning_rate) +  learning_rate*(reward + discount_rate * np.max(q_table[new_state,:]))\n",
    "\n",
    "        state = new_state\n",
    "        rewards_current_episode += reward\n",
    "\n",
    "        if done == True:\n",
    "            break\n",
    "\n",
    "    #we decay the exploration rate as we want to converge as we reach the optiml policy\n",
    "    exploration_rate = min_exploration_rate + (max_exploration_rate - min_exploration_rate) * np.exp(-exploration_decay_rate * episode)\n",
    "\n",
    "    rewards_all_episodes.append(rewards_current_episode)\n",
    "\n",
    "print(\"done\")\n"
   ]
  },
  {
   "cell_type": "code",
   "execution_count": 14,
   "metadata": {},
   "outputs": [
    {
     "data": {
      "text/plain": [
       "array([[ 0.        ,  0.        ,  0.        ,  0.        ,  0.        ,\n",
       "         0.        ],\n",
       "       [ 6.97792437,  7.02739562,  6.46212172,  7.03828241,  9.6220697 ,\n",
       "        -1.14296518],\n",
       "       [11.23334491, 12.73665221, 11.29024394, 12.79130198, 14.11880599,\n",
       "         3.77801419],\n",
       "       ...,\n",
       "       [ 8.54572936, 15.24697999,  7.95043066,  7.47770136, -0.70922442,\n",
       "        -2.43491602],\n",
       "       [ 6.95815047,  7.58293539,  4.86600791, 10.66927363, -2.6796169 ,\n",
       "        -3.33493812],\n",
       "       [14.18993183, 13.62010357, 14.49512679, 18.79836696,  7.56526216,\n",
       "         4.6644392 ]])"
      ]
     },
     "execution_count": 14,
     "metadata": {},
     "output_type": "execute_result"
    }
   ],
   "source": [
    "q_table"
   ]
  },
  {
   "cell_type": "code",
   "execution_count": 15,
   "metadata": {},
   "outputs": [
    {
     "name": "stdout",
     "output_type": "stream",
     "text": [
      "Average per thousand episodes\n",
      "1000 :  -291.8100000000003\n",
      "2000 :  8.27199999999996\n",
      "3000 :  14.06999999999986\n",
      "4000 :  15.067999999999854\n",
      "5000 :  14.940999999999848\n",
      "6000 :  -142.7459999999999\n",
      "7000 :  8.601999999999945\n",
      "8000 :  14.318999999999848\n",
      "9000 :  14.832999999999876\n",
      "10000 :  14.81399999999986\n"
     ]
    }
   ],
   "source": [
    "#Calculate and print average reward per thousand episodes\n",
    "rewards_per_thousand_episodes = np.split(np.array(rewards_all_episodes), num_episodes/1000) \n",
    "count = 1000\n",
    "print(\"Average per thousand episodes\") \n",
    "for r in rewards_per_thousand_episodes:\n",
    "    print(count, \": \", str(sum(r/1000)))\n",
    "    count+= 1000\n",
    "\n",
    "\n"
   ]
  },
  {
   "cell_type": "code",
   "execution_count": 21,
   "metadata": {},
   "outputs": [
    {
     "name": "stdout",
     "output_type": "stream",
     "text": [
      "+---------+\n",
      "|\u001b[35m\u001b[34;1m\u001b[43mR\u001b[0m\u001b[0m\u001b[0m: | : :G|\n",
      "| : | : : |\n",
      "| : : : : |\n",
      "| | : | : |\n",
      "|Y| : |B: |\n",
      "+---------+\n",
      "  (Dropoff)\n",
      "**** *Failed*****\n"
     ]
    }
   ],
   "source": [
    "import time\n",
    "#Visualize Agent\n",
    "for episode in range(3):\n",
    "       \n",
    "    state = env.reset() \n",
    "    done = False \n",
    "    print(\"Episode is: \" + str(episode))\n",
    "    time.sleep(1)\n",
    "\n",
    "    for step in range (max_steps_per_episode):\n",
    "        clear_output(wait=True)\n",
    "\n",
    "        env.render() \n",
    "        time.sleep(0.4)\n",
    "        #now since the model is trained, take the max action.\n",
    "        action = np.argmax (q_table[state,:])\n",
    "        new_state, reward, done, info = env.step(action)\n",
    "        \n",
    "        if done:\n",
    "            clear_output(wait=True)\n",
    "\n",
    "            env.render() \n",
    "            if reward == 1:\n",
    "                print(\"*****Reached Goal****\")\n",
    "                time.sleep(1)\n",
    "\n",
    "                clear_output(wait=True)\n",
    "\n",
    "            else:\n",
    "                print(\"*****Failed*****\")\n",
    "                time.sleep(1)\n",
    "\n",
    "                clear_output(wait=True)\n",
    "\n",
    "            break\n",
    "\n",
    "\n",
    "        state = new_state\n",
    "\n",
    "env.close()\n",
    "\n"
   ]
  },
  {
   "cell_type": "markdown",
   "metadata": {},
   "source": [
    "SO, as the agent learns for over 10000 episodes, it will learn teh desired performance."
   ]
  }
 ],
 "metadata": {
  "interpreter": {
   "hash": "b89b5cfaba6639976dc87ff2fec6d58faec662063367e2c229c520fe71072417"
  },
  "kernelspec": {
   "display_name": "Python 3.10.1 64-bit",
   "language": "python",
   "name": "python3"
  },
  "language_info": {
   "codemirror_mode": {
    "name": "ipython",
    "version": 3
   },
   "file_extension": ".py",
   "mimetype": "text/x-python",
   "name": "python",
   "nbconvert_exporter": "python",
   "pygments_lexer": "ipython3",
   "version": "3.10.1"
  },
  "orig_nbformat": 4
 },
 "nbformat": 4,
 "nbformat_minor": 2
}
